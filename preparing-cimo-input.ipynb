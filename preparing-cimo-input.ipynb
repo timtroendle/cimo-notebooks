{
 "cells": [
  {
   "cell_type": "markdown",
   "metadata": {},
   "source": [
    "# Preparing CiMo Input"
   ]
  },
  {
   "cell_type": "markdown",
   "metadata": {},
   "source": [
    "This file tries to perform the steps that need to be performed manually with ArcGIS at the current moment (2016-07-25) with Python only. That would make the steps easily reproducible."
   ]
  },
  {
   "cell_type": "code",
   "execution_count": 1,
   "metadata": {
    "collapsed": true
   },
   "outputs": [],
   "source": [
    "import geopandas as gpd\n",
    "import eecisc\n",
    "%matplotlib inline\n",
    "import seaborn as sns"
   ]
  },
  {
   "cell_type": "code",
   "execution_count": 2,
   "metadata": {
    "collapsed": true
   },
   "outputs": [],
   "source": [
    "POSTCODE_PATH = '/notebooks/LondonPCLSOA.shp'\n",
    "LSOA_PATH = '/notebooks/LA_AUTHORITY_LSOA.shp'\n",
    "TILE_PATH = '/notebooks/HB0616_UKMap_Topo_Base_Table.shp'\n",
    "OUTPUT_FILE = './build/sjoin_selection.shp'"
   ]
  },
  {
   "cell_type": "markdown",
   "metadata": {},
   "source": [
    "## Read in Data"
   ]
  },
  {
   "cell_type": "code",
   "execution_count": 3,
   "metadata": {
    "collapsed": false
   },
   "outputs": [
    {
     "name": "stdout",
     "output_type": "stream",
     "text": [
      "User name on eecisc: tt397\n",
      "Password: ········\n",
      "User name on eecisc: tt397\n",
      "Password: ········\n",
      "User name on eecisc: tt397\n",
      "Password: ········\n"
     ]
    }
   ],
   "source": [
    "postcode = eecisc.read_shapefile(POSTCODE_PATH)\n",
    "lsoa = eecisc.read_shapefile(LSOA_PATH)\n",
    "tile = eecisc.read_shapefile(TILE_PATH)"
   ]
  },
  {
   "cell_type": "code",
   "execution_count": 4,
   "metadata": {
    "collapsed": false
   },
   "outputs": [
    {
     "data": {
      "text/plain": [
       "168251"
      ]
     },
     "execution_count": 4,
     "metadata": {},
     "output_type": "execute_result"
    }
   ],
   "source": [
    "postcode.index.size"
   ]
  },
  {
   "cell_type": "code",
   "execution_count": 5,
   "metadata": {
    "collapsed": false
   },
   "outputs": [
    {
     "data": {
      "text/plain": [
       "4765"
      ]
     },
     "execution_count": 5,
     "metadata": {},
     "output_type": "execute_result"
    }
   ],
   "source": [
    "lsoa.index.size"
   ]
  },
  {
   "cell_type": "code",
   "execution_count": 6,
   "metadata": {
    "collapsed": false
   },
   "outputs": [
    {
     "data": {
      "text/plain": [
       "220175"
      ]
     },
     "execution_count": 6,
     "metadata": {},
     "output_type": "execute_result"
    }
   ],
   "source": [
    "tile.index.size"
   ]
  },
  {
   "cell_type": "code",
   "execution_count": 7,
   "metadata": {
    "collapsed": false
   },
   "outputs": [
    {
     "data": {
      "text/plain": [
       "{}"
      ]
     },
     "execution_count": 7,
     "metadata": {},
     "output_type": "execute_result"
    }
   ],
   "source": [
    "postcode.crs"
   ]
  },
  {
   "cell_type": "code",
   "execution_count": 8,
   "metadata": {
    "collapsed": false
   },
   "outputs": [
    {
     "data": {
      "text/plain": [
       "{'datum': 'OSGB36',\n",
       " 'k': 0.9996012717,\n",
       " 'lat_0': 49,\n",
       " 'lon_0': -2,\n",
       " 'no_defs': True,\n",
       " 'proj': 'tmerc',\n",
       " 'units': 'm',\n",
       " 'x_0': 400000,\n",
       " 'y_0': -100000}"
      ]
     },
     "execution_count": 8,
     "metadata": {},
     "output_type": "execute_result"
    }
   ],
   "source": [
    "lsoa.crs"
   ]
  },
  {
   "cell_type": "code",
   "execution_count": 9,
   "metadata": {
    "collapsed": false
   },
   "outputs": [
    {
     "data": {
      "text/plain": [
       "{'datum': 'OSGB36',\n",
       " 'k': 0.9996012717,\n",
       " 'lat_0': 49,\n",
       " 'lon_0': -2,\n",
       " 'no_defs': True,\n",
       " 'proj': 'tmerc',\n",
       " 'units': 'm',\n",
       " 'x_0': 400000,\n",
       " 'y_0': -100000}"
      ]
     },
     "execution_count": 9,
     "metadata": {},
     "output_type": "execute_result"
    }
   ],
   "source": [
    "tile.crs"
   ]
  },
  {
   "cell_type": "markdown",
   "metadata": {},
   "source": [
    "The postcode dataset does not have a coordinate reference system (CRS) attached to it. The CRS from the london authority dataset and from UKMap match."
   ]
  },
  {
   "cell_type": "code",
   "execution_count": 10,
   "metadata": {
    "collapsed": true
   },
   "outputs": [],
   "source": [
    "postcode.crs = tile.crs # Postcode dataset is known to be OSGB36 as well."
   ]
  },
  {
   "cell_type": "markdown",
   "metadata": {},
   "source": [
    "## Filter out Buildings"
   ]
  },
  {
   "cell_type": "code",
   "execution_count": 11,
   "metadata": {
    "collapsed": true
   },
   "outputs": [],
   "source": [
    "buildings_in_tile = tile[tile.FTC == 1]"
   ]
  },
  {
   "cell_type": "code",
   "execution_count": 12,
   "metadata": {
    "collapsed": false
   },
   "outputs": [
    {
     "data": {
      "text/plain": [
       "113057"
      ]
     },
     "execution_count": 12,
     "metadata": {},
     "output_type": "execute_result"
    }
   ],
   "source": [
    "buildings_in_tile.index.size"
   ]
  },
  {
   "cell_type": "markdown",
   "metadata": {},
   "source": [
    "## Spatial Join"
   ]
  },
  {
   "cell_type": "markdown",
   "metadata": {},
   "source": [
    "### Super Output Area"
   ]
  },
  {
   "cell_type": "code",
   "execution_count": 13,
   "metadata": {
    "collapsed": false
   },
   "outputs": [],
   "source": [
    "spatial_join = gpd.sjoin(buildings_in_tile, lsoa)\n",
    "# FIXME not very smart deduplication, rather keep the more appropriate (bigger intersect?)\n",
    "spatial_join = spatial_join[~spatial_join.index.duplicated(keep='first')]\n",
    "assert spatial_join.index.size == buildings_in_tile.index.size"
   ]
  },
  {
   "cell_type": "code",
   "execution_count": 14,
   "metadata": {
    "collapsed": false
   },
   "outputs": [],
   "source": [
    "needed_columns = list(buildings_in_tile.columns) + ['LSOA_CODE']\n",
    "spatial_join = spatial_join[needed_columns]\n",
    "assert list(spatial_join.columns) == needed_columns\n",
    "assert spatial_join.index.size == buildings_in_tile.index.size"
   ]
  },
  {
   "cell_type": "markdown",
   "metadata": {},
   "source": [
    "### Postcode"
   ]
  },
  {
   "cell_type": "code",
   "execution_count": 15,
   "metadata": {
    "collapsed": false
   },
   "outputs": [],
   "source": [
    "spatial_join = gpd.sjoin(spatial_join, postcode)\n",
    "# FIXME not very smart deduplication, rather keep the more appropriate (bigger intersect?)\n",
    "spatial_join = spatial_join[~spatial_join.index.duplicated(keep='first')]\n",
    "assert spatial_join.index.size == buildings_in_tile.index.size"
   ]
  },
  {
   "cell_type": "code",
   "execution_count": 16,
   "metadata": {
    "collapsed": false
   },
   "outputs": [],
   "source": [
    "spatial_join.rename(columns=lambda x: x.replace('_left', ''), inplace=True) # remove traces from join on 'left' columns\n",
    "needed_columns = list(buildings_in_tile.columns) + ['LSOA_CODE', 'POSTCODE']\n",
    "spatial_join = spatial_join[needed_columns]\n",
    "assert list(spatial_join.columns) == needed_columns\n",
    "assert spatial_join.index.size == buildings_in_tile.index.size"
   ]
  },
  {
   "cell_type": "markdown",
   "metadata": {},
   "source": [
    "## Select Small Area for Tests"
   ]
  },
  {
   "cell_type": "code",
   "execution_count": 17,
   "metadata": {
    "collapsed": true
   },
   "outputs": [],
   "source": [
    "smallest_x = min([polygon.centroid.coords.xy[0] for polygon in spatial_join.geometry])[0]\n",
    "smallest_y = min([polygon.centroid.coords.xy[1] for polygon in spatial_join.geometry])[0]"
   ]
  },
  {
   "cell_type": "code",
   "execution_count": 18,
   "metadata": {
    "collapsed": false
   },
   "outputs": [],
   "source": [
    "from shapely.geometry.polygon import Polygon"
   ]
  },
  {
   "cell_type": "code",
   "execution_count": 19,
   "metadata": {
    "collapsed": false
   },
   "outputs": [],
   "source": [
    "length = 300\n",
    "window = gpd.GeoDataFrame(geometry=[Polygon([(smallest_x, smallest_y), \n",
    "                                             (smallest_x + length, smallest_y), \n",
    "                                             (smallest_x + length, smallest_y + length), \n",
    "                                             (smallest_x, smallest_y + length)])])\n",
    "window.crs = spatial_join.crs"
   ]
  },
  {
   "cell_type": "code",
   "execution_count": 20,
   "metadata": {
    "collapsed": false
   },
   "outputs": [],
   "source": [
    "selection = gpd.sjoin(spatial_join, window)"
   ]
  },
  {
   "cell_type": "code",
   "execution_count": 21,
   "metadata": {
    "collapsed": false,
    "scrolled": true
   },
   "outputs": [
    {
     "data": {
      "text/plain": [
       "<matplotlib.axes._subplots.AxesSubplot at 0x159ea4a8>"
      ]
     },
     "execution_count": 21,
     "metadata": {},
     "output_type": "execute_result"
    },
    {
     "data": {
      "image/png": "[encoded data removed]",
      "text/plain": [
       "<matplotlib.figure.Figure at 0x159fd240>"
      ]
     },
     "metadata": {},
     "output_type": "display_data"
    }
   ],
   "source": [
    "selection.plot(figsize=(10, 10), linewidth=0.2)"
   ]
  },
  {
   "cell_type": "code",
   "execution_count": 22,
   "metadata": {
    "collapsed": false
   },
   "outputs": [
    {
     "data": {
      "text/plain": [
       "56"
      ]
     },
     "execution_count": 22,
     "metadata": {},
     "output_type": "execute_result"
    }
   ],
   "source": [
    "selection.index.size"
   ]
  },
  {
   "cell_type": "markdown",
   "metadata": {},
   "source": [
    "## Export"
   ]
  },
  {
   "cell_type": "markdown",
   "metadata": {},
   "source": [
    "The file exported with GeoPandas is currently not directly usable for CiMo. That's because data type information doesn't seem to be transmitted properly. Geopandas does not have a problem when using (reimporting) the exported file. Neither does ArcMap. ArcPy's SearchCursor (``arcpy.da.SearchCursor``) from ArcGIS 12.2.2 unfortunately does not import the file properly: many (or all) integers are turned into floats."
   ]
  },
  {
   "cell_type": "code",
   "execution_count": 24,
   "metadata": {
    "collapsed": false
   },
   "outputs": [],
   "source": [
    "selection.to_file(OUTPUT_FILE)"
   ]
  },
  {
   "cell_type": "markdown",
   "metadata": {},
   "source": [
    "## Creating Surrounding Bounds\n",
    "\n",
    "This is to be able to use it in ArcGIS."
   ]
  },
  {
   "cell_type": "code",
   "execution_count": 25,
   "metadata": {
    "collapsed": false
   },
   "outputs": [
    {
     "data": {
      "text/plain": [
       "(525011.27000000002, 175029.06, 525159.75, 175246.54999999999)"
      ]
     },
     "execution_count": 25,
     "metadata": {},
     "output_type": "execute_result"
    }
   ],
   "source": [
    "selection.total_bounds"
   ]
  },
  {
   "cell_type": "code",
   "execution_count": 26,
   "metadata": {
    "collapsed": false
   },
   "outputs": [
    {
     "data": {
      "text/plain": [
       "<matplotlib.axes._subplots.AxesSubplot at 0x154c9f60>"
      ]
     },
     "execution_count": 26,
     "metadata": {},
     "output_type": "execute_result"
    },
    {
     "data": {
      "image/png": "[encoded data removed]",
      "text/plain": [
       "<matplotlib.figure.Figure at 0x154b8320>"
      ]
     },
     "metadata": {},
     "output_type": "display_data"
    }
   ],
   "source": [
    "minx, miny, maxx, maxy = selection.total_bounds\n",
    "p = Polygon([(minx, miny), (maxx, miny), (maxx, maxy), (minx, maxy)])\n",
    "surrounding_bounds = gpd.GeoDataFrame(geometry=[p])\n",
    "surrounding_bounds.crs = spatial_join.crs\n",
    "ax = surrounding_bounds.plot(alpha=0.2)\n",
    "selection.plot(linewidth=0.2, ax=ax)"
   ]
  },
  {
   "cell_type": "code",
   "execution_count": null,
   "metadata": {
    "collapsed": true
   },
   "outputs": [],
   "source": []
  }
 ],
 "metadata": {
  "kernelspec": {
   "display_name": "Python 3",
   "language": "python",
   "name": "python3"
  },
  "language_info": {
   "codemirror_mode": {
    "name": "ipython",
    "version": 3
   },
   "file_extension": ".py",
   "mimetype": "text/x-python",
   "name": "python",
   "nbconvert_exporter": "python",
   "pygments_lexer": "ipython3",
   "version": "3.4.5"
  }
 },
 "nbformat": 4,
 "nbformat_minor": 0
}
